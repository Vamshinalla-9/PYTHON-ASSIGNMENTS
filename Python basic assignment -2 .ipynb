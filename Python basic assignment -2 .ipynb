{
 "cells": [
  {
   "cell_type": "markdown",
   "id": "4eb232b9",
   "metadata": {},
   "source": [
    "### 1.What are the two values of the Boolean data type? How do you write them?\n",
    "\n",
    "#### Answer:- \n",
    "    Booleans data types are only two types of values  that is True or False.\n",
    "    True boolean value indicate the expression or operation is valid. \n",
    "    False boolean value indicate the expression or operation is invalid.\n",
    "    \n",
    "    we will write them using bool()\n",
    "    From the above bool() function any things in between the parenthesis we include string,integers & float it returns the\n",
    "    True boolean value.In this case paranthesis cannot be empty.\n",
    "    \n",
    "    In case if parenthesis is included with \"False\",\"None\",\"0\",\"()\",\"[]\",\"{}\" it return the False boolean value. If we\n",
    "    include the nested parenthesis with any other numeric data type it return the True value.\n",
    "\n"
   ]
  },
  {
   "cell_type": "markdown",
   "id": "15d42634",
   "metadata": {},
   "source": [
    "### 2. What are the three different types of Boolean operators?\n",
    "\n",
    "#### Answer:- \n",
    "    logical operators 'and','or','not are considered as different types of boolean operators.\n",
    "    \n",
    "    \"and\" boolean operators validates and if two operands are True,Then it returns the True else it returns false.\n",
    "    \"or\" boolean operators validates and if any one of  operands are True,Then it returns the True.In case of the both are\n",
    "    false then it return False.\n",
    "    \"not\" boolean operator validates and if expression is true it returns false. vice-versa if expression is false it\n",
    "    returns the True\n",
    "     \n",
    "\n",
    "\n"
   ]
  },
  {
   "cell_type": "markdown",
   "id": "00843ecc",
   "metadata": {},
   "source": [
    "### 4. What are the values of the following expressions?\n",
    "  ### (5 > 4) and (3 == 5)\n",
    "  ### not (5 > 4)\n",
    "  ### (5 > 4) or (3 == 5)\n",
    "  ### not ((5 > 4) or (3 == 5))\n",
    "  ### (True and True) and (True == False)\n",
    "  ### (not False) or (not True)\n",
    "\n",
    "#### Answer:- \n",
    "    (5 > 4) and (3 == 5) ===> value is:\"False\"\n",
    "    not (5 > 4)          ===> value is:\"False\"\n",
    "    (5 > 4) or (3 == 5)  ===> value is:\"True\"\n",
    "    not ((5 > 4) or (3 == 5))===> value is :\"False\"\n",
    "    (True and True) and (True == False) ===> value is : \"False\"\n",
    "    (not False) or (not True) ===> value is : \"True\"\n",
    "     \n"
   ]
  },
  {
   "cell_type": "markdown",
   "id": "71f04221",
   "metadata": {},
   "source": [
    "### 5. What are the six comparison operators?\n",
    "#### Answer:-\n",
    "       \"<\" compares the operands if first operand is less than to second operand.\n",
    "       \">\" compares the operands if first operand is greater than to second operand.\n",
    "       \">=\"compares the operands if first operand is greater than or equal to second operand.\n",
    "       \"<=\"compares the operands if first operand is less than or equal  to second operand.\n",
    "       \"!=\"compares the operands if first operand is not equal  to second operand.\n",
    "       \"==\"compares the operands if first operand is equals  to second operand.\n",
    "   \n",
    "       In the above explanation if expression is satisfied then It returns \"True\" else \"False\" in vice-versa"
   ]
  },
  {
   "cell_type": "markdown",
   "id": "d4cc78b3",
   "metadata": {},
   "source": [
    "### 6. How do you tell the difference between the equal to and assignment operators?Describe a condition and when you would use one. \n",
    "   \n",
    "#### Answer:-\n",
    "      \"=\" stands for the assignment operator \n",
    "      \"==\" stands for the equal to operator \n",
    "      \"=\" operator is used to assign the values to the variables \n",
    "      Example: Input: a = 20\n",
    "               Input: a (execute)\n",
    "               output: 20 \n",
    "          \"==' operator is used to  check the expression, If input expression is true it returns the \"True\" else \"False\".\n",
    "      Example: Input: a = 20 (declare the variable)\n",
    "                      b = 20 (declare the variable)\n",
    "               Input: a == b (execute the expression)\n",
    "               Output: True"
   ]
  },
  {
   "cell_type": "markdown",
   "id": "6097d5be",
   "metadata": {},
   "source": [
    "### 7. Identify the three blocks in this code:\n",
    "   ### spam = 0\n",
    "   ### if spam == 10:\n",
    "   ###     print('eggs')\n",
    "   ###     if spam > 5:\n",
    "   ###     print('bacon')\n",
    "   ###     else:\n",
    "   ###     print('ham')\n",
    "   ###     print('spam')\n",
    "   ###     print('spam')\n",
    "        \n",
    "#### Answer:-\n",
    "                                        \n",
    "    The first block is simple if block :-     spam = 0\n",
    "                                                if spam == 10:\n",
    "                                                print('eggs') \n",
    "                                                \n",
    "       The second block is nested if block :-    if spam > 5:\n",
    "                                                print('bacon')\n",
    "                                                \n",
    "               The third block is else block:-         else:\n",
    "                                                       print('ham')\n",
    "                                                       print('spam')\n",
    "                                                       print('spam')                                 "
   ]
  },
  {
   "cell_type": "markdown",
   "id": "3515786b",
   "metadata": {},
   "source": [
    "### 8. Write code that prints Hello if 1 is stored in spam, prints Howdy if 2 is stored in spam, and prints Greetings! if anything else is stored in spam."
   ]
  },
  {
   "cell_type": "markdown",
   "id": "5158b66c",
   "metadata": {},
   "source": [
    "#### Answer:-"
   ]
  },
  {
   "cell_type": "code",
   "execution_count": 16,
   "id": "4409eabe",
   "metadata": {},
   "outputs": [
    {
     "name": "stdout",
     "output_type": "stream",
     "text": [
      "2\n",
      "Howdy\n"
     ]
    }
   ],
   "source": [
    "spam = input()\n",
    "# In these case the string always compares the other in the string formate only \n",
    "# But in case without comparing the variable with string it just jumps to else block and prints \"Greetings\"\n",
    "\n",
    "if spam == \"1\":\n",
    "    print(\"Hello\")\n",
    "elif spam == \"2\":\n",
    "    print(\"Howdy\")\n",
    "else:\n",
    "    print(\"Greetings!\")"
   ]
  },
  {
   "cell_type": "markdown",
   "id": "71886253",
   "metadata": {},
   "source": [
    "### 9.If your programme is stuck in an endless loop, what keys you’ll press?\n",
    "\n",
    "#### Answer:-\n",
    "        As a programmer,I interrupt the kernal in jupyter notebook.\n",
    "        kernal interrupt keyboard shortcut is (\"esc\" + \"i i(press i double time)\" )\n",
    "   "
   ]
  },
  {
   "cell_type": "markdown",
   "id": "d858f1e7",
   "metadata": {},
   "source": [
    "### 10. How can you tell the difference between break and continue?\n",
    " \n",
    "#### Answer:-\n",
    "\n",
    "      break statement:\n",
    "\n",
    "      break is the loop control statement. The name it self break is used to stop the control from the nested loop if the given condition satisfied.It works on very simple protocal first it passes the control form statement to statement in a loop after the evalute of  statement when it enters into the break statement.It simple terminates from the  nested loop. In case of termination of nested loop then the loop must present in it break statement.\n",
    "\n",
    "      continue statement:\n",
    "\n",
    "      continue is also the loop control statement.continue is the quiet opposite to the break statement. Instead of terminating or stop control from the loop, continue statement forces to continue  the loop or to execute the next iteration.Precceding the continue statement to any Iteration,It passes the control to the next iteration.\n"
   ]
  },
  {
   "cell_type": "markdown",
   "id": "5161bb54",
   "metadata": {},
   "source": [
    "### 11. In a for loop, what is the difference between range(10), range(0, 10), and range(0, 10, 1)?\n",
    "\n",
    "#### Answer:-\n",
    "\n",
    "    In any for loop the when we execute the range(10) it prints the 10 numbers from begining with the 0 and ends with 9 from 0-9 count is 10 so range always exclude the precceding to the entered range paranthesis. range always prints the positive integers including zero and in case of negative numbers it just simply executes but no output is provided \n",
    "\n",
    "    1) range(10)\n",
    "    In the above example it where the number entered in pranthesis is just simple stop number while printing the number it prints the 10 numbers from 0 to 9 where entered 10 number is simply excluded.It is simply precceding number to entered number.\n",
    "\n",
    "    2) range(0,10)\n",
    "    In this example it starts printing number from the 0 and ends at 9 where 10 is stop number,In these case of example \"range(A,B)\" where A is start number where numbers start printing from the 0 and prints upto B where B is stop number it prints upto the precceding numbers of stop number.\n",
    "   \n",
    "    Example => INPUT: range(2,8)\n",
    "              OUTPUT: 2,3,4,5,6,7\n",
    " \n",
    "    3) range(0,10,1)\n",
    "    In this example , In paranthesis the first number is start number i.e.,\"0\" and second number is stop number i.e.,\"10\" and where last number i.e., is \"1\" is jump number. it jumps form start number to specified number that we include in last number \n",
    "   \n",
    "    Example => INPUT: range(1,10,2)\n",
    "              OUTPUT: 1,3,5,7,9\n"
   ]
  },
  {
   "cell_type": "markdown",
   "id": "5a14c3fb",
   "metadata": {},
   "source": [
    "### 12. Write a short program that prints the numbers 1 to 10 using a for loop. Then write an equivalent program that prints the numbers 1 to 10 using a while loop.\n",
    "\n",
    "#### Answer:-"
   ]
  },
  {
   "cell_type": "code",
   "execution_count": 2,
   "id": "2b01ac3e",
   "metadata": {},
   "outputs": [
    {
     "name": "stdout",
     "output_type": "stream",
     "text": [
      "1\n",
      "2\n",
      "3\n",
      "4\n",
      "5\n",
      "6\n",
      "7\n",
      "8\n",
      "9\n",
      "10\n"
     ]
    }
   ],
   "source": [
    "for i in range(1,11):\n",
    "    print(i)"
   ]
  },
  {
   "cell_type": "code",
   "execution_count": 13,
   "id": "66fc2156",
   "metadata": {},
   "outputs": [
    {
     "name": "stdout",
     "output_type": "stream",
     "text": [
      "1\n",
      "2\n",
      "3\n",
      "4\n",
      "5\n",
      "6\n",
      "7\n",
      "8\n",
      "9\n",
      "10\n"
     ]
    }
   ],
   "source": [
    "i = 1\n",
    "while(i<=10):\n",
    "    print(i)\n",
    "    i = i+1\n",
    "    pass"
   ]
  },
  {
   "cell_type": "markdown",
   "id": "741bdbd9",
   "metadata": {},
   "source": [
    "### 13. If you had a function named bacon() inside a module named spam, how would you call it after importing spam?\n",
    "\n",
    "#### Answer:-\n",
    "    By using simple syntax :\n",
    "                             from spam import*\n",
    "    In case of if module contains more one function syntax is:\n",
    "                                                               from spam import bacon"
   ]
  },
  {
   "cell_type": "code",
   "execution_count": null,
   "id": "38c562d1",
   "metadata": {},
   "outputs": [],
   "source": []
  }
 ],
 "metadata": {
  "kernelspec": {
   "display_name": "Python 3",
   "language": "python",
   "name": "python3"
  },
  "language_info": {
   "codemirror_mode": {
    "name": "ipython",
    "version": 3
   },
   "file_extension": ".py",
   "mimetype": "text/x-python",
   "name": "python",
   "nbconvert_exporter": "python",
   "pygments_lexer": "ipython3",
   "version": "3.8.8"
  }
 },
 "nbformat": 4,
 "nbformat_minor": 5
}
