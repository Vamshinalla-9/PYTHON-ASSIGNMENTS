{
 "cells": [
  {
   "cell_type": "markdown",
   "id": "e6c8cd3e",
   "metadata": {},
   "source": [
    "### 1. What exactly is []?"
   ]
  },
  {
   "cell_type": "markdown",
   "id": "aedb7ce5",
   "metadata": {},
   "source": [
    "#### Answer:-\n",
    "       The above symbol refered as square brackets are brackets. This Brackets are used to assign the list data type.This Brackets supports the mutablility,we can push and pop elements from and to the bracket.List are iterable so we can work on for loops."
   ]
  },
  {
   "cell_type": "markdown",
   "id": "c08771ab",
   "metadata": {},
   "source": [
    "### 2.  In a list of values stored in a variable called spam, how would you assign the value 'hello' as the third value? (Assume [2, 4, 6, 8, 10] are in spam.)"
   ]
  },
  {
   "cell_type": "markdown",
   "id": "5fa105b9",
   "metadata": {},
   "source": [
    "#### Answer:-\n",
    "        let spam consit of elements 2,4,6,8,10 \n",
    "        basing on the index operation we can insert the hello value as a third value.\n",
    "        index of 0 = 2\n",
    "        index of 1 = 4\n",
    "        index of 2 = 6\n",
    "        index of 3 = 8\n",
    "        index of 4 = 10 \n",
    "        so we have to insert the value at index no on 2 \n",
    "        spam = [2,4,6,8,10]\n",
    "        spam[2] = \"hello\"\n",
    "       "
   ]
  },
  {
   "cell_type": "code",
   "execution_count": 1,
   "id": "55cfe211",
   "metadata": {},
   "outputs": [
    {
     "data": {
      "text/plain": [
       "[2, 4, 'hello', 8, 10]"
      ]
     },
     "execution_count": 1,
     "metadata": {},
     "output_type": "execute_result"
    }
   ],
   "source": [
    "spam = [2,4,6,8,10]\n",
    "spam[2]= \"hello\"\n",
    "spam"
   ]
  },
  {
   "cell_type": "markdown",
   "id": "bc4e0081",
   "metadata": {},
   "source": [
    "### Let's pretend the spam includes the list ['a', 'b', 'c', 'd'] for the next three queries."
   ]
  },
  {
   "cell_type": "code",
   "execution_count": 2,
   "id": "468b6af1",
   "metadata": {},
   "outputs": [
    {
     "data": {
      "text/plain": [
       "['a', 'b', 'c', 'd']"
      ]
     },
     "execution_count": 2,
     "metadata": {},
     "output_type": "execute_result"
    }
   ],
   "source": [
    "spam[::] = \"abcd\"\n",
    "spam"
   ]
  },
  {
   "cell_type": "markdown",
   "id": "d4f0c073",
   "metadata": {},
   "source": [
    "### 3. What is the value of spam[int(int('3' * 2) / 11)]?"
   ]
  },
  {
   "cell_type": "markdown",
   "id": "2950a64a",
   "metadata": {},
   "source": [
    "#### Answer:-\n",
    "        The query follow on step by step \n",
    "        step - 1: int(\"3\"*2) = int(\"33\")  It is type casting it making string to integer\n",
    "        step - 2: integer 33 is divided by 11 so new value is 3\n",
    "        step - 3: spam[3] = index of 3 in list is \"d\"\n",
    "        step - 4: so the final value of spam[int(int(\"3\"*2)/11)]  is \"d\""
   ]
  },
  {
   "cell_type": "code",
   "execution_count": 3,
   "id": "bd91382e",
   "metadata": {},
   "outputs": [
    {
     "data": {
      "text/plain": [
       "'d'"
      ]
     },
     "execution_count": 3,
     "metadata": {},
     "output_type": "execute_result"
    }
   ],
   "source": [
    "spam[int(int('3'*2)/11)]"
   ]
  },
  {
   "cell_type": "markdown",
   "id": "c1a7898f",
   "metadata": {},
   "source": [
    "### 4. What is the value of spam[-1]?\n"
   ]
  },
  {
   "cell_type": "markdown",
   "id": "45b320c0",
   "metadata": {},
   "source": [
    "#### Answer:- \n",
    "            when the index number is negative means it starts from the last element\n",
    "        so it start printing the last element.\n",
    "        so value of spam[-1] = \"d\""
   ]
  },
  {
   "cell_type": "code",
   "execution_count": 4,
   "id": "ceacb442",
   "metadata": {},
   "outputs": [
    {
     "data": {
      "text/plain": [
       "'d'"
      ]
     },
     "execution_count": 4,
     "metadata": {},
     "output_type": "execute_result"
    }
   ],
   "source": [
    "spam[-1]"
   ]
  },
  {
   "cell_type": "markdown",
   "id": "dcda8c8e",
   "metadata": {},
   "source": [
    "### 5. What is the value of spam[:2]?"
   ]
  },
  {
   "cell_type": "markdown",
   "id": "5e99c4f9",
   "metadata": {},
   "source": [
    "#### Answer:-\n",
    "        when a bracket includes [a:b] where a is the starting or lower bound so it starts printing the elements from the \n",
    "    index of a. where b is called the upper bound or ending bound so it prints the elements upto precceding index of b\n",
    "    so spam = ['a','b','c','d']\n",
    "    spam[:2] = [\"a\",\"b\"] where index of 2 is excluded."
   ]
  },
  {
   "cell_type": "code",
   "execution_count": 5,
   "id": "1e696be2",
   "metadata": {},
   "outputs": [
    {
     "data": {
      "text/plain": [
       "['a', 'b']"
      ]
     },
     "execution_count": 5,
     "metadata": {},
     "output_type": "execute_result"
    }
   ],
   "source": [
    "spam[:2]"
   ]
  },
  {
   "cell_type": "markdown",
   "id": "d7bf6e4e",
   "metadata": {},
   "source": [
    "### Let's pretend bacon has the list [3.14, 'cat,' 11, 'cat,' True] for the next three questions."
   ]
  },
  {
   "cell_type": "code",
   "execution_count": 6,
   "id": "729f9c80",
   "metadata": {},
   "outputs": [],
   "source": [
    "bacon = [3.14,'cat',11,'cat',True]"
   ]
  },
  {
   "cell_type": "markdown",
   "id": "686dbeeb",
   "metadata": {},
   "source": [
    "### 6. What is the value of bacon.index('cat')?"
   ]
  },
  {
   "cell_type": "markdown",
   "id": "e1ac0807",
   "metadata": {},
   "source": [
    "#### Answer:-\n",
    "          list is the type of datatype which are mutiable and list supports the different types of attributes like append,clear,copy,index,count....etc.\n",
    "         so the give question is that bacon.index(\"cat\")\n",
    "         index is the attribute that finds the index number of cat in given list. \n",
    "         if list contains the multiple same(\"cat\") variables then index operation counts the very first index of the element. so value of bacon.index('cat') = 1 "
   ]
  },
  {
   "cell_type": "code",
   "execution_count": 7,
   "id": "75c77a0e",
   "metadata": {},
   "outputs": [
    {
     "data": {
      "text/plain": [
       "1"
      ]
     },
     "execution_count": 7,
     "metadata": {},
     "output_type": "execute_result"
    }
   ],
   "source": [
    "bacon.index(\"cat\")"
   ]
  },
  {
   "cell_type": "markdown",
   "id": "ee510b84",
   "metadata": {},
   "source": [
    "### 7. How does bacon.append(99) change the look of the list value in bacon?"
   ]
  },
  {
   "cell_type": "markdown",
   "id": "b351dd8e",
   "metadata": {},
   "source": [
    "#### Answer:-\n",
    "       The given is bacon.append(99)\n",
    "       append is attribute which add the new element to the list without removing the other elements from the list.\n",
    "       so the answer is Yes bacon.append(99) change the look of the list value in bacon. \n",
    "       so bacon looks like [3.14,'cat',11,'cat',True,99]"
   ]
  },
  {
   "cell_type": "code",
   "execution_count": 8,
   "id": "92a1ccdb",
   "metadata": {},
   "outputs": [
    {
     "data": {
      "text/plain": [
       "[3.14, 'cat', 11, 'cat', True, 99]"
      ]
     },
     "execution_count": 8,
     "metadata": {},
     "output_type": "execute_result"
    }
   ],
   "source": [
    "bacon.append(99)\n",
    "bacon"
   ]
  },
  {
   "cell_type": "markdown",
   "id": "dc912d5d",
   "metadata": {},
   "source": [
    "### 8. How does bacon.remove('cat') change the look of the list in bacon?"
   ]
  },
  {
   "cell_type": "markdown",
   "id": "1ba63dc8",
   "metadata": {},
   "source": [
    "#### Answer:- \n",
    "        similarlly the remove is the attribute that removes the element which occured for the first time.\n",
    "        so in case of bacon.remove('cat') it removes the element \"cat\" from the index no 1\n",
    "        so the answer is Yes bacon.remove(\"cat\") change the look of the list value in bacon. \n",
    "        so it looks like [ 3.14,11,'cat',True,99]   "
   ]
  },
  {
   "cell_type": "code",
   "execution_count": 9,
   "id": "36916a7b",
   "metadata": {},
   "outputs": [
    {
     "data": {
      "text/plain": [
       "[3.14, 11, 'cat', True, 99]"
      ]
     },
     "execution_count": 9,
     "metadata": {},
     "output_type": "execute_result"
    }
   ],
   "source": [
    "bacon.remove(\"cat\")\n",
    "bacon"
   ]
  },
  {
   "cell_type": "markdown",
   "id": "5ce4dad0",
   "metadata": {},
   "source": [
    "### 9. What are the list concatenation and list replication operators?"
   ]
  },
  {
   "cell_type": "markdown",
   "id": "c68a609f",
   "metadata": {},
   "source": [
    "#### Answer:- \n",
    "        The word concatenation means adding one list with another list.\n",
    "        The word replication means producing the samething.\n",
    "        Concatenation operator is \"+\"\n",
    "        Replication operator is \"*\"\n",
    "    There are some procedures to concatenation. concatenation only occurs with same datatype. If data is another type make a typecasting to the data.so it works \n",
    "    Examples for concatenation:\n",
    "        l1 = [1,2,3,4,5,6]\n",
    "        l2 = [7,8,9,10,11]\n",
    "        l1 = l1 + l2\n",
    "        l1\n",
    "        [1,2,3,4,5,6,7,8,9,10,11]\n",
    "    Example for replication:\n",
    "       r  = [\"ineuron\",\"krish\",\"sudh\",\"sunny\",\"hites\"]\n",
    "       r = r*2\n",
    "       r \n",
    "       [\"ineuron\",\"krish\",\"sudh\",\"sunny\",\"hites\",\"ineuron\",\"krish\",\"sudh\",\"sunny\",\"hites\"]\n",
    "    "
   ]
  },
  {
   "cell_type": "markdown",
   "id": "c4431ad4",
   "metadata": {},
   "source": [
    "### 10. What is difference between the list methods append() and insert()?"
   ]
  },
  {
   "cell_type": "markdown",
   "id": "be8d8259",
   "metadata": {},
   "source": [
    "#### Answer:-\n",
    "        The method or attribute append() is used to add elements to the list at last.\n",
    "        The method or attribute insert() is used to insert the elements in at prefered index. inserting element or object is done before the index we element\n",
    "        Example is followed below.\n",
    "        "
   ]
  },
  {
   "cell_type": "code",
   "execution_count": 10,
   "id": "19d8ef2b",
   "metadata": {},
   "outputs": [
    {
     "data": {
      "text/plain": [
       "[1, 2, 3, 'numerics', 4, 5, 6]"
      ]
     },
     "execution_count": 10,
     "metadata": {},
     "output_type": "execute_result"
    }
   ],
   "source": [
    "# Example for the insert elements in list\n",
    "l = [ 1,2,3,4,5,6]   \n",
    "l.insert(3,\"numerics\")\n",
    "l"
   ]
  },
  {
   "cell_type": "code",
   "execution_count": 11,
   "id": "49fdb607",
   "metadata": {},
   "outputs": [
    {
     "data": {
      "text/plain": [
       "[1, 2, 3, 'numerics', 4, 5, 6, 'insert']"
      ]
     },
     "execution_count": 11,
     "metadata": {},
     "output_type": "execute_result"
    }
   ],
   "source": [
    "#Example for the append.\n",
    "l.append(\"insert\")\n",
    "l"
   ]
  },
  {
   "cell_type": "markdown",
   "id": "1b294a0e",
   "metadata": {},
   "source": [
    "### 11. What are the two methods for removing items from a list?"
   ]
  },
  {
   "cell_type": "markdown",
   "id": "d6703b41",
   "metadata": {},
   "source": [
    "#### Answer:-\n",
    "    The two methods for removing items from a list\n",
    "    method-1 : \"pop\" it removes the last element\n",
    "    method - 2: \"remove\" it removes the deserved element to be deleted.\n",
    "    \n",
    "    Example:-\n",
    "    \n",
    "    rem = [1,2,3,4,\"ineuron\",\"sudh\",34,56]\n",
    "    rem.pop()\n",
    "    56\n",
    "    rem.remove(\"sudh\")\n",
    "    rem\n",
    "    [1,2,3,4,\"ineuron\",34,]\n",
    "    "
   ]
  },
  {
   "cell_type": "code",
   "execution_count": 12,
   "id": "fe244472",
   "metadata": {},
   "outputs": [
    {
     "data": {
      "text/plain": [
       "56"
      ]
     },
     "execution_count": 12,
     "metadata": {},
     "output_type": "execute_result"
    }
   ],
   "source": [
    "rem = [1,2,3,4,\"ineuron\",\"sudh\",34,56]\n",
    "rem.pop()"
   ]
  },
  {
   "cell_type": "code",
   "execution_count": 13,
   "id": "aa8425fa",
   "metadata": {},
   "outputs": [
    {
     "data": {
      "text/plain": [
       "[1, 2, 3, 4, 'ineuron', 34]"
      ]
     },
     "execution_count": 13,
     "metadata": {},
     "output_type": "execute_result"
    }
   ],
   "source": [
    "rem.remove(\"sudh\")\n",
    "rem"
   ]
  },
  {
   "cell_type": "markdown",
   "id": "3c88fdc4",
   "metadata": {},
   "source": [
    "### 12. Describe how list values and string values are identical"
   ]
  },
  {
   "cell_type": "markdown",
   "id": "41a5b97e",
   "metadata": {},
   "source": [
    "#### Answer:- \n",
    "        So first main diffrence\n",
    "        The list values or elements that are mutiable.so where as string values are immutiable. so string are always should enclosed with the quotes on both sides.\n",
    "        both string and list supports the Index slicing or sequencing operation \n",
    "        so where as list may contains different data types, where as string should only contain the character only."
   ]
  },
  {
   "cell_type": "markdown",
   "id": "c3fdf3a8",
   "metadata": {},
   "source": [
    "### 13. What's the difference between tuples and lists?"
   ]
  },
  {
   "cell_type": "markdown",
   "id": "edc0caab",
   "metadata": {},
   "source": [
    "#### Answer:-\n",
    "        Tuples :- \n",
    "            i) tuples are immutiable.\n",
    "           ii) insertion,addition,deletion of elements cannot be done,but we can find the index,count of element\n",
    "          iii) tuples consume the reserved memory. further there is no memory expantions can be done.\n",
    "           iv) tuples are always must be enclosed with paranthesis ()\n",
    "           Example : t = (1,23,4,\"ineuron\",\"spam\")\n",
    "       Lists:-\n",
    "            i) lists are mutiable.\n",
    "           ii) insertion,addition,deletion of elements can be done.\n",
    "          iii) list can support the expantion of memory there is no limitaion for expantion\n",
    "           iv) lists are always must be enclosed with square barckets [ ]\n",
    "           Example: l = [1,23,4,\"ineuron\",\"spam\"]\n",
    "           \n",
    "       Common properties of both lists and tuples:-\n",
    "            i) both perform the index slicing operation\n",
    "           ii) both has the methods of index and count."
   ]
  },
  {
   "cell_type": "markdown",
   "id": "e60f1b74",
   "metadata": {},
   "source": [
    "### 14. How do you type a tuple value that only contains the integer 42?"
   ]
  },
  {
   "cell_type": "markdown",
   "id": "f6e7d727",
   "metadata": {},
   "source": [
    "#### Answer:-\n",
    "        In order to make the tuple value that should only contain the integer 42 is possible by help of comma(,) at last in tuple \n",
    "      We can't make type casting of single integer to tuple, so trailing comma is necessary only contains the integer 42.\n",
    "        practical solution is given below:  "
   ]
  },
  {
   "cell_type": "code",
   "execution_count": 14,
   "id": "6a5459f5",
   "metadata": {},
   "outputs": [
    {
     "name": "stdout",
     "output_type": "stream",
     "text": [
      "<class 'tuple'>\n"
     ]
    }
   ],
   "source": [
    "v = (42,)\n",
    "print(type(v))"
   ]
  },
  {
   "cell_type": "markdown",
   "id": "2c511019",
   "metadata": {},
   "source": [
    "### 15. How do you get a list value's tuple form? How do you get a tuple value's list form?"
   ]
  },
  {
   "cell_type": "markdown",
   "id": "107f4e65",
   "metadata": {},
   "source": [
    "#### Answer:- \n",
    "        we can make using keyword \"tuple\" to convert list to tuple.\n",
    "        we can make using keyword \"list\" to convert tuple to list.\n",
    "        example is given below:\n",
    "        "
   ]
  },
  {
   "cell_type": "code",
   "execution_count": 15,
   "id": "5b398870",
   "metadata": {},
   "outputs": [
    {
     "name": "stdout",
     "output_type": "stream",
     "text": [
      "<class 'list'>\n",
      "<class 'tuple'>\n"
     ]
    }
   ],
   "source": [
    "## Converting the list to tuple.\n",
    "\n",
    "l = [1,2,3,5,6,\"ineuron\"] # list is declared \n",
    "print(type(l)) # printing the type of l\n",
    "l = tuple(l) # converting the list to tuple\n",
    "print(type(l)) #list is converted to tuple"
   ]
  },
  {
   "cell_type": "code",
   "execution_count": 16,
   "id": "dc5c3f06",
   "metadata": {},
   "outputs": [
    {
     "name": "stdout",
     "output_type": "stream",
     "text": [
      "<class 'tuple'>\n",
      "<class 'list'>\n"
     ]
    }
   ],
   "source": [
    "## converting the tuple to list.\n",
    "t  = (1,23,4,\"apple\",\"ball\",\"cat\") # tuple is declared\n",
    "print(type(t)) # printing the type of t\n",
    "t = list(t) # conveting the tuple to list\n",
    "print(type(t))#tuple is converted to list"
   ]
  },
  {
   "cell_type": "markdown",
   "id": "a1250a68",
   "metadata": {},
   "source": [
    "### 16. Variables that \"contain\" list values are not necessarily lists themselves. Instead, what do they contain?"
   ]
  },
  {
   "cell_type": "code",
   "execution_count": null,
   "id": "fbcfc5dc",
   "metadata": {},
   "outputs": [],
   "source": [
    "# sorry I haven\"t understand the question."
   ]
  },
  {
   "cell_type": "markdown",
   "id": "7919d909",
   "metadata": {},
   "source": [
    "### 17. How do you distinguish between copy.copy() and copy.deepcopy()?\n"
   ]
  },
  {
   "cell_type": "markdown",
   "id": "96792faf",
   "metadata": {},
   "source": [
    "#### Answer:-\n",
    "        copy is the module in python we have to import the module.\n",
    "        Python do not copy the item from the variable we declared to copy is the module to copy same variable to another variable.\n",
    "        copy.copy() only returns the copy of elements\n",
    "        copy.deepcopy() returns deepcopy elements which we declared in neseted oject elements\n",
    "        "
   ]
  },
  {
   "cell_type": "code",
   "execution_count": 17,
   "id": "4e6123cc",
   "metadata": {},
   "outputs": [
    {
     "name": "stdout",
     "output_type": "stream",
     "text": [
      "[1, 2, 3, ['krishna', 4], {'a': 123, 'b': 'vamshi'}]\n"
     ]
    }
   ],
   "source": [
    "#Example:-\n",
    "import copy as c\n",
    "l = [1,2,3,[\"krishna\", 4],{\"a\":123,\"b\":\"vamshi\"}]\n",
    "new_copy = c.copy(l)\n",
    "l.append(452)\n",
    "print(new_copy)"
   ]
  },
  {
   "cell_type": "code",
   "execution_count": 18,
   "id": "290daf93",
   "metadata": {},
   "outputs": [
    {
     "data": {
      "text/plain": [
       "[1, 2, 3, ['krishna', 4], {'a': 123, 'b': 'vamshi'}, 452]"
      ]
     },
     "execution_count": 18,
     "metadata": {},
     "output_type": "execute_result"
    }
   ],
   "source": [
    "import copy as c\n",
    "new_copy = c.deepcopy(l)\n",
    "new_copy"
   ]
  },
  {
   "cell_type": "code",
   "execution_count": null,
   "id": "161e5008",
   "metadata": {},
   "outputs": [],
   "source": []
  }
 ],
 "metadata": {
  "kernelspec": {
   "display_name": "Python 3 (ipykernel)",
   "language": "python",
   "name": "python3"
  },
  "language_info": {
   "codemirror_mode": {
    "name": "ipython",
    "version": 3
   },
   "file_extension": ".py",
   "mimetype": "text/x-python",
   "name": "python",
   "nbconvert_exporter": "python",
   "pygments_lexer": "ipython3",
   "version": "3.9.7"
  }
 },
 "nbformat": 4,
 "nbformat_minor": 5
}
