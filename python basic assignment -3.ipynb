{
 "cells": [
  {
   "cell_type": "markdown",
   "id": "6f545242",
   "metadata": {},
   "source": [
    "### 1. Why are functions advantageous to have in your programs?"
   ]
  },
  {
   "cell_type": "markdown",
   "id": "0e17d2f4",
   "metadata": {},
   "source": [
    "####   Answer:-\n",
    "    Functions are the defined by keyword called \"def\" . \n",
    "    The syntax is followed by # def funtion_name(args):\n",
    "                                return args\n",
    "    1) The functions are used to reduce the time of writing the code multiple times.It supports the widily in code\n",
    "       reusability.\n",
    "    2) By using the functions we can break the large code into simple blocks.\n",
    "    3) It is mostly used in the Object Oriented programming , In order to maintain the code clarity for future errors.\n",
    "    4) defining the code in function can hide the code for the further methods.\n",
    "    5) Function mostly used in recursive method of coding, Inorder to repeat same code multiple times.\n",
    "    6) Function also supports Docstrings in order to maintain the Documentation for the code what we write."
   ]
  },
  {
   "cell_type": "markdown",
   "id": "20abafad",
   "metadata": {},
   "source": [
    "### 2. When does the code in a function run: when it's specified or when it's called?"
   ]
  },
  {
   "cell_type": "markdown",
   "id": "7fb6cbdf",
   "metadata": {},
   "source": [
    "##### Answer:-\n",
    "       Code in Functions are always should be in the after declaration of funtion_name,following the multiple arguments \n",
    "    or keyword arguments. And arguments must be in paranthesis.In another case we may not declare arguments inside the\n",
    "    paranthesis the code runs with pass statement.\n",
    "      On after declaring function_name then we can write our custom code and funtion end must should contain the \"return\"\n",
    "    statement.\"return\" statement returns the deserved type of data (or) datatype. Instead of return if we write the print\n",
    "    then when we call the what type function it returns the Nonetype.\n",
    "    \n",
    "    Function call or specified:\n",
    "    Function can be called within the function itself.Funtions can be used in other funtions\n",
    "    Function is specified in recursive Function which it can call the multiple times.\n",
    "    When Function is called within Function it leaves the code and stars calling the code from begining\n",
    "    When Function is called in other Function it reads the code from the top to bottom then starts working with the code \n",
    "    of function which we called.\n",
    "    \n",
    "    \n",
    "    "
   ]
  },
  {
   "cell_type": "markdown",
   "id": "23383682",
   "metadata": {},
   "source": [
    "### 3. What statement creates a function?"
   ]
  },
  {
   "cell_type": "markdown",
   "id": "9b2d1328",
   "metadata": {},
   "source": [
    "####  Answer :-\n",
    "      def is the statement creates the function:\n",
    "      There are certain protocals to followed while creating the function\n",
    "      1) def statement is write as it as \"def\" precceding to function_name, And function_name is followed paranthesis.\n",
    "         lastly it should end with semi-colon.\n",
    "      2) After writing multiple lines of code it must contain the \"return\" statement\n",
    "      3) If no arguments are passed in pranathesis then \"pass\" or else you may use \"return\" statement.\n",
    "      \n",
    "      Below examples for funtion\n",
    "      "
   ]
  },
  {
   "cell_type": "code",
   "execution_count": 1,
   "id": "45f1a606",
   "metadata": {},
   "outputs": [],
   "source": [
    "def function(a,b):\n",
    "    return a+b"
   ]
  },
  {
   "cell_type": "code",
   "execution_count": 2,
   "id": "98bca7a3",
   "metadata": {},
   "outputs": [
    {
     "data": {
      "text/plain": [
       "int"
      ]
     },
     "execution_count": 2,
     "metadata": {},
     "output_type": "execute_result"
    }
   ],
   "source": [
    "type(function(4,5))"
   ]
  },
  {
   "cell_type": "code",
   "execution_count": 3,
   "id": "8fd9bbcc",
   "metadata": {},
   "outputs": [],
   "source": [
    "def funtion():\n",
    "    print(\"vamshi_nalla\")"
   ]
  },
  {
   "cell_type": "code",
   "execution_count": 4,
   "id": "faf60683",
   "metadata": {},
   "outputs": [
    {
     "name": "stdout",
     "output_type": "stream",
     "text": [
      "vamshi_nalla\n"
     ]
    }
   ],
   "source": [
    "funtion()"
   ]
  },
  {
   "cell_type": "code",
   "execution_count": 5,
   "id": "a672708a",
   "metadata": {},
   "outputs": [
    {
     "name": "stdout",
     "output_type": "stream",
     "text": [
      "vamshi_nalla\n"
     ]
    },
    {
     "data": {
      "text/plain": [
       "NoneType"
      ]
     },
     "execution_count": 5,
     "metadata": {},
     "output_type": "execute_result"
    }
   ],
   "source": [
    "type(funtion())"
   ]
  },
  {
   "cell_type": "markdown",
   "id": "c23ecb47",
   "metadata": {},
   "source": [
    "### 4. What is the difference between a function and a function call?"
   ]
  },
  {
   "cell_type": "markdown",
   "id": "411eff30",
   "metadata": {},
   "source": [
    "#### Answer:-\n",
    "\n",
    "\n",
    "\n",
    "\n"
   ]
  },
  {
   "cell_type": "markdown",
   "id": "313de31a",
   "metadata": {},
   "source": [
    "#### Answer:-\n",
    "    Function:\n",
    "           Function contains the block of logical code or simple code with certain standards of protocals and concise.\n",
    "    Function call:\n",
    "           Function call is transfers the control to block of code which funtion_name defined to call.Function calling is\n",
    "           nothing but passing arguments to the function which we defined. \n",
    "    \n",
    "     "
   ]
  },
  {
   "cell_type": "markdown",
   "id": "4e342498",
   "metadata": {},
   "source": [
    "### 5. How many global scopes are there in a Python program? How many local scopes?"
   ]
  },
  {
   "cell_type": "markdown",
   "id": "eccde346",
   "metadata": {},
   "source": [
    "#### Answer:-\n",
    "    Scope: It is a kind of area where variable are defined and looks after\n",
    "            Global scopes is variable which we declare top of code for program. which are inviable or unable to change\n",
    "    during runing of the code. global scopes are always written before the def statement.It is span for single file. \n",
    "            Local scope are variable which is declared in code.Local scopes are viable or able to change during\n",
    "    different operations in the code.\n",
    "    \n",
    "    Global scopes are only one type for the particular program or only global for entire file.\n",
    "    Global scopes may include N no of types but all scopes are unique and global for entire python file.\n",
    "    \n",
    "    Local scopes are always must be includ within function.\n",
    "    Local scopes are exist or local for the particular funtion while runing the code.\n",
    "    Local scopes may include N no of types but all local scopes are runs for only particular function \n",
    "    \n",
    "    Examples for the Global scope and Local scope:"
   ]
  },
  {
   "cell_type": "code",
   "execution_count": 6,
   "id": "b59ea636",
   "metadata": {},
   "outputs": [
    {
     "data": {
      "text/plain": [
       "75"
      ]
     },
     "execution_count": 6,
     "metadata": {},
     "output_type": "execute_result"
    }
   ],
   "source": [
    "A = 25 # global scope\n",
    "B = 50 # global scope\n",
    "def add():\n",
    "    C = A+B #local scope\n",
    "    return C\n",
    "add()"
   ]
  },
  {
   "cell_type": "code",
   "execution_count": 7,
   "id": "f7ccec48",
   "metadata": {},
   "outputs": [
    {
     "data": {
      "text/plain": [
       "25"
      ]
     },
     "execution_count": 7,
     "metadata": {},
     "output_type": "execute_result"
    }
   ],
   "source": [
    "A  # value of A is not changed."
   ]
  },
  {
   "cell_type": "code",
   "execution_count": 8,
   "id": "09c85418",
   "metadata": {},
   "outputs": [
    {
     "data": {
      "text/plain": [
       "50"
      ]
     },
     "execution_count": 8,
     "metadata": {},
     "output_type": "execute_result"
    }
   ],
   "source": [
    "B # value of B is not changed."
   ]
  },
  {
   "cell_type": "markdown",
   "id": "41286370",
   "metadata": {},
   "source": [
    "##### lexical scope Example:\n",
    "        The scope with same name which change in with in function and exist for the global for file is called lexical scope.\n",
    "     Example for lexical scope:"
   ]
  },
  {
   "cell_type": "code",
   "execution_count": 9,
   "id": "9cca98a2",
   "metadata": {},
   "outputs": [],
   "source": [
    "sudh = 45  #Global scope with same name\n",
    "def ineuron():\n",
    "    sudh = 66 #local scope with same name\n",
    "    return sudh"
   ]
  },
  {
   "cell_type": "code",
   "execution_count": 10,
   "id": "6ca5ef5b",
   "metadata": {},
   "outputs": [
    {
     "data": {
      "text/plain": [
       "66"
      ]
     },
     "execution_count": 10,
     "metadata": {},
     "output_type": "execute_result"
    }
   ],
   "source": [
    "ineuron()  #when function is called it return the local scope with same name"
   ]
  },
  {
   "cell_type": "code",
   "execution_count": 11,
   "id": "30870fc7",
   "metadata": {},
   "outputs": [
    {
     "data": {
      "text/plain": [
       "45"
      ]
     },
     "execution_count": 11,
     "metadata": {},
     "output_type": "execute_result"
    }
   ],
   "source": [
    "sudh  # when global scope it does not changes"
   ]
  },
  {
   "cell_type": "markdown",
   "id": "1ed30030",
   "metadata": {},
   "source": [
    "### 6. What happens to variables in a local scope when the function call returns?\n"
   ]
  },
  {
   "cell_type": "markdown",
   "id": "f98faedd",
   "metadata": {},
   "source": [
    "#### Answer:-\n",
    "        when function is called at first instance then the local scope retains it's value according to the code.when Fucntion complete it's action then local variable are assigns with new value. The local value are liable to change on calling the function."
   ]
  },
  {
   "cell_type": "markdown",
   "id": "175787ef",
   "metadata": {},
   "source": [
    "### 7. What is the concept of a return value? Is it possible to have a return value in an expression?"
   ]
  },
  {
   "cell_type": "markdown",
   "id": "c9b85f9a",
   "metadata": {},
   "source": [
    "#### Answer:-\n",
    "        The main concept of a return value is that it provides what data type it is when \"type\" function executed.\n",
    "    It is optional to provide the return value in expression.\n",
    "        The Answer is yes It is possible to  have a return value in an expression using the lambda fucntion.\n",
    "    Example for return value and return value in expression."
   ]
  },
  {
   "cell_type": "code",
   "execution_count": 12,
   "id": "8f60819e",
   "metadata": {},
   "outputs": [
    {
     "data": {
      "text/plain": [
       "11"
      ]
     },
     "execution_count": 12,
     "metadata": {},
     "output_type": "execute_result"
    }
   ],
   "source": [
    "def addition(a,b,c):\n",
    "    return(a+b+c)\n",
    "addition(2,4,5)"
   ]
  },
  {
   "cell_type": "code",
   "execution_count": 13,
   "id": "fb289e87",
   "metadata": {},
   "outputs": [
    {
     "data": {
      "text/plain": [
       "int"
      ]
     },
     "execution_count": 13,
     "metadata": {},
     "output_type": "execute_result"
    }
   ],
   "source": [
    "type(addition(2,4,5))   #return value is Integer."
   ]
  },
  {
   "cell_type": "code",
   "execution_count": 14,
   "id": "a2960f03",
   "metadata": {},
   "outputs": [],
   "source": [
    "x = lambda x:x**2 # return value in single Expression."
   ]
  },
  {
   "cell_type": "code",
   "execution_count": 15,
   "id": "286cfad4",
   "metadata": {},
   "outputs": [
    {
     "data": {
      "text/plain": [
       "function"
      ]
     },
     "execution_count": 15,
     "metadata": {},
     "output_type": "execute_result"
    }
   ],
   "source": [
    "type(x) # return what it's type"
   ]
  },
  {
   "cell_type": "code",
   "execution_count": 16,
   "id": "4befd9d0",
   "metadata": {},
   "outputs": [
    {
     "data": {
      "text/plain": [
       "81"
      ]
     },
     "execution_count": 16,
     "metadata": {},
     "output_type": "execute_result"
    }
   ],
   "source": [
    "x(9)"
   ]
  },
  {
   "cell_type": "code",
   "execution_count": 17,
   "id": "cdaa5784",
   "metadata": {},
   "outputs": [
    {
     "data": {
      "text/plain": [
       "int"
      ]
     },
     "execution_count": 17,
     "metadata": {},
     "output_type": "execute_result"
    }
   ],
   "source": [
    "type(x(9))"
   ]
  },
  {
   "cell_type": "markdown",
   "id": "b24d31bc",
   "metadata": {},
   "source": [
    "#### 8. If a function does not have a return statement, what is the return value of a call to that function?"
   ]
  },
  {
   "cell_type": "markdown",
   "id": "6679d292",
   "metadata": {},
   "source": [
    "#### Answer:- \n",
    "        The Answer is probably is NoneType. return keyword has the special property is that it returns the data type of arguments which we pass in function\n",
    "        Example is given below :\n"
   ]
  },
  {
   "cell_type": "code",
   "execution_count": 18,
   "id": "527328e0",
   "metadata": {},
   "outputs": [],
   "source": [
    "def add(a,b):\n",
    "    c = a+b   #additon of a,b:\n",
    "    print(c)"
   ]
  },
  {
   "cell_type": "code",
   "execution_count": 19,
   "id": "8abb5ea9",
   "metadata": {},
   "outputs": [
    {
     "name": "stdout",
     "output_type": "stream",
     "text": [
      "7\n"
     ]
    },
    {
     "data": {
      "text/plain": [
       "NoneType"
      ]
     },
     "execution_count": 19,
     "metadata": {},
     "output_type": "execute_result"
    }
   ],
   "source": [
    "type(add(3,4))"
   ]
  },
  {
   "cell_type": "markdown",
   "id": "b7526ecd",
   "metadata": {},
   "source": [
    "### 9. How do you make a function variable refer to the global variable?"
   ]
  },
  {
   "cell_type": "markdown",
   "id": "bed4630b",
   "metadata": {},
   "source": [
    "#### Answer:-\n",
    "       We can call the function variable outside of the  function. Then call the function variable then it refers to  global variable.\n",
    "       These type of variable is also called lexical scope or variable\n",
    "       we can make function variable as global variable using \"global keyword\"\n",
    "       Example:\n",
    "       "
   ]
  },
  {
   "cell_type": "code",
   "execution_count": 20,
   "id": "ff200e1c",
   "metadata": {},
   "outputs": [],
   "source": [
    "vamshi = \"name of being: \" #global variable"
   ]
  },
  {
   "cell_type": "code",
   "execution_count": 21,
   "id": "789b6127",
   "metadata": {},
   "outputs": [
    {
     "data": {
      "text/plain": [
       "'name of being: '"
      ]
     },
     "execution_count": 21,
     "metadata": {},
     "output_type": "execute_result"
    }
   ],
   "source": [
    "vamshi"
   ]
  },
  {
   "cell_type": "code",
   "execution_count": 22,
   "id": "0e065b67",
   "metadata": {},
   "outputs": [
    {
     "data": {
      "text/plain": [
       "' Flute of lord Krishna '"
      ]
     },
     "execution_count": 22,
     "metadata": {},
     "output_type": "execute_result"
    }
   ],
   "source": [
    "def truename():\n",
    "    global vamshi  # changing the global value of vamshi using global keyword\n",
    "    vamshi =\" Flute of lord Krishna \"\n",
    "    return vamshi\n",
    "truename()"
   ]
  },
  {
   "cell_type": "code",
   "execution_count": 23,
   "id": "eda9faa7",
   "metadata": {},
   "outputs": [
    {
     "data": {
      "text/plain": [
       "' Flute of lord Krishna '"
      ]
     },
     "execution_count": 23,
     "metadata": {},
     "output_type": "execute_result"
    }
   ],
   "source": [
    "vamshi"
   ]
  },
  {
   "cell_type": "markdown",
   "id": "e93ca019",
   "metadata": {},
   "source": [
    "### 10. What is the data type of None?"
   ]
  },
  {
   "cell_type": "markdown",
   "id": "f01c2508",
   "metadata": {},
   "source": [
    "#### Answer:- \n",
    "        The datatype of None is NoneType."
   ]
  },
  {
   "cell_type": "code",
   "execution_count": 24,
   "id": "89f2a6ed",
   "metadata": {},
   "outputs": [
    {
     "data": {
      "text/plain": [
       "NoneType"
      ]
     },
     "execution_count": 24,
     "metadata": {},
     "output_type": "execute_result"
    }
   ],
   "source": [
    "type(None)"
   ]
  },
  {
   "cell_type": "markdown",
   "id": "ffcae93f",
   "metadata": {},
   "source": [
    "### 11. What does the sentence import areallyourpetsnamederic do?"
   ]
  },
  {
   "cell_type": "markdown",
   "id": "694abcff",
   "metadata": {},
   "source": [
    "#### Answer:- \n",
    "       It does nothing.when The areallyourpetsnamederic is imported then it raises the error. It just raise the error."
   ]
  },
  {
   "cell_type": "code",
   "execution_count": 25,
   "id": "d418c131",
   "metadata": {},
   "outputs": [
    {
     "ename": "ModuleNotFoundError",
     "evalue": "No module named 'areallyourpetsnamederic'",
     "output_type": "error",
     "traceback": [
      "\u001b[1;31m---------------------------------------------------------------------------\u001b[0m",
      "\u001b[1;31mModuleNotFoundError\u001b[0m                       Traceback (most recent call last)",
      "\u001b[1;32m~\\AppData\\Local\\Temp/ipykernel_16388/102801109.py\u001b[0m in \u001b[0;36m<module>\u001b[1;34m\u001b[0m\n\u001b[1;32m----> 1\u001b[1;33m \u001b[1;32mimport\u001b[0m \u001b[0mareallyourpetsnamederic\u001b[0m\u001b[1;33m\u001b[0m\u001b[1;33m\u001b[0m\u001b[0m\n\u001b[0m",
      "\u001b[1;31mModuleNotFoundError\u001b[0m: No module named 'areallyourpetsnamederic'"
     ]
    }
   ],
   "source": [
    " import areallyourpetsnamederic "
   ]
  },
  {
   "cell_type": "markdown",
   "id": "0621e177",
   "metadata": {},
   "source": [
    "### 12. If you had a bacon() feature in a spam module, what would you call it after importing spam?\n"
   ]
  },
  {
   "cell_type": "markdown",
   "id": "cb1318ed",
   "metadata": {},
   "source": [
    "#### Answer:-\n",
    "        After importing spam module. The bacon() is called attribute in spam module."
   ]
  },
  {
   "cell_type": "code",
   "execution_count": null,
   "id": "56fdd579",
   "metadata": {},
   "outputs": [],
   "source": [
    "import math as e  #Here cmath is module"
   ]
  },
  {
   "cell_type": "code",
   "execution_count": null,
   "id": "9b01c0d6",
   "metadata": {},
   "outputs": [],
   "source": [
    "e.lcm(8,10) # here Lcm is called attribute."
   ]
  },
  {
   "cell_type": "markdown",
   "id": "170e08f4",
   "metadata": {},
   "source": [
    "### 13. What can you do to save a programme from crashing if it encounters an error?"
   ]
  },
  {
   "cell_type": "markdown",
   "id": "62b2630b",
   "metadata": {},
   "source": [
    "#### Answer:-\n",
    "        we can handle any code if it encounters with a multiple errors. This can be achieved by using Exception handling.\n",
    "    so this can make us to save a program form crash. There are multiple error class but inorder to achieve any we can use\n",
    "    Exception superclass."
   ]
  },
  {
   "cell_type": "markdown",
   "id": "d57e2653",
   "metadata": {},
   "source": [
    "### 14. What is the purpose of the try clause? What is the purpose of the except clause?"
   ]
  },
  {
   "cell_type": "markdown",
   "id": "3765d053",
   "metadata": {},
   "source": [
    "#### Answer:-\n",
    "                Try clause is main operation is that the block of code which is present in try clause it try to evalute or\n",
    "        validate or test the code if error founds in try clause then it notes the errors and throws to the except clause.\n",
    "        \n",
    "                except clause is operation is that it handles the error which raised by the try block. It's main aim is to \n",
    "        handle any type of errors."
   ]
  },
  {
   "cell_type": "code",
   "execution_count": null,
   "id": "48a9a509",
   "metadata": {},
   "outputs": [],
   "source": []
  }
 ],
 "metadata": {
  "kernelspec": {
   "display_name": "Python 3 (ipykernel)",
   "language": "python",
   "name": "python3"
  },
  "language_info": {
   "codemirror_mode": {
    "name": "ipython",
    "version": 3
   },
   "file_extension": ".py",
   "mimetype": "text/x-python",
   "name": "python",
   "nbconvert_exporter": "python",
   "pygments_lexer": "ipython3",
   "version": "3.9.7"
  }
 },
 "nbformat": 4,
 "nbformat_minor": 5
}
