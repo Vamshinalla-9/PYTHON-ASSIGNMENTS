{
 "cells": [
  {
   "cell_type": "markdown",
   "id": "c09dc4ca",
   "metadata": {},
   "source": [
    "### 1. What does an empty dictionary's code look like?"
   ]
  },
  {
   "cell_type": "markdown",
   "id": "6f7a4c1b",
   "metadata": {},
   "source": [
    "#### Answer:-\n",
    "        The empty dictionary look like empty set. we can call the dictionary is null set this is because it does not key value pair in it."
   ]
  },
  {
   "cell_type": "markdown",
   "id": "e2d99c15",
   "metadata": {},
   "source": [
    "### 2. What is the value of a dictionary value with the key 'foo' and the value 42?"
   ]
  },
  {
   "cell_type": "markdown",
   "id": "fa32b809",
   "metadata": {},
   "source": [
    "#### Answer:-\n",
    "        if dictionary is assigned with key called \"foo\" and the value 42. Then the value of dictionary is given by method called dict_name.values attribute.so in the above case the value of dictionary is 42. dictionary looks like {'foo',42}"
   ]
  },
  {
   "cell_type": "code",
   "execution_count": 1,
   "id": "c8322d7d",
   "metadata": {},
   "outputs": [],
   "source": [
    "d = {\"foo\":42}"
   ]
  },
  {
   "cell_type": "code",
   "execution_count": 2,
   "id": "221503c7",
   "metadata": {},
   "outputs": [
    {
     "data": {
      "text/plain": [
       "dict_values([42])"
      ]
     },
     "execution_count": 2,
     "metadata": {},
     "output_type": "execute_result"
    }
   ],
   "source": [
    "d.values()"
   ]
  },
  {
   "cell_type": "markdown",
   "id": "150e2159",
   "metadata": {},
   "source": [
    "### 3. What is the most significant distinction between a dictionary and a list?"
   ]
  },
  {
   "cell_type": "markdown",
   "id": "beadccc0",
   "metadata": {},
   "source": [
    "#### Answer:- \n",
    "        The difference between the dictionary and a list is, Where as the Dictionary has the key and value pair attribute \n",
    "     in it. Where as the list supports the inclusion any data type in it. list are enclosed with square brackets. \n",
    "     Where dictionary is must be enclosed with the curly brackets.              \n",
    "     \n",
    "     On can type cast dictionary to list but the in list only keys are include.\n",
    "     \n",
    "     We can't typecast the list to dictionary.\n",
    "     \n",
    "     when you access the elements in dictionary by index operation, but the output is served with only key\n",
    "     \n",
    "     In dictionary the key must be always to be the string,integer,tuple,True but it should not be the list.and key must be\n",
    "     always to be unique.\n",
    "     \n",
    "     In dictionary the values may be string,integer, list, tuple or boolean.\n",
    "     \n",
    "     The last difference is dictionary are in inorder. Lists are order collection of data"
   ]
  },
  {
   "cell_type": "markdown",
   "id": "0cb146e5",
   "metadata": {},
   "source": [
    "### 4. What happens if you try to access spam['foo'] if spam is {'bar': 100}?"
   ]
  },
  {
   "cell_type": "markdown",
   "id": "b64f48fb",
   "metadata": {},
   "source": [
    "#### Answer:- \n",
    "        when we declare spam as {'bar',100}\n",
    "        but when we try to access key which is undefined in dictionary so it gives the \"Keyerror\"\n",
    "        "
   ]
  },
  {
   "cell_type": "markdown",
   "id": "26877a2e",
   "metadata": {},
   "source": [
    "### 5. If a dictionary is stored in spam, what is the difference between the expressions 'cat' in spam and 'cat' in spam.keys()?"
   ]
  },
  {
   "cell_type": "markdown",
   "id": "938f30d9",
   "metadata": {},
   "source": [
    "#### Answer:-\n",
    "        Let's intialize the spam as dictionary\n",
    "        spam = {}\n",
    "        We will look into the first expression is \"cat\" in spam:\n",
    "                    if spam(dictionary) keys does contain the \"cat\" as key, Then it gives you \"True\" at output.\n",
    "                    But in above case it gives false. It only check in the keys.\n",
    "        Now the second expression : \"cat\" in spam.keys()\n",
    "                    It is similar to the above expression nothing meaning changes. \n",
    "        Follow the given below examples."
   ]
  },
  {
   "cell_type": "code",
   "execution_count": 3,
   "id": "6efb641e",
   "metadata": {},
   "outputs": [
    {
     "data": {
      "text/plain": [
       "False"
      ]
     },
     "execution_count": 3,
     "metadata": {},
     "output_type": "execute_result"
    }
   ],
   "source": [
    "spam ={}\n",
    "\"cat\" in spam"
   ]
  },
  {
   "cell_type": "code",
   "execution_count": 51,
   "id": "f73e18a0",
   "metadata": {},
   "outputs": [
    {
     "data": {
      "text/plain": [
       "True"
      ]
     },
     "execution_count": 51,
     "metadata": {},
     "output_type": "execute_result"
    }
   ],
   "source": [
    "\"cat\" in spam.values()"
   ]
  },
  {
   "cell_type": "code",
   "execution_count": 53,
   "id": "3c045245",
   "metadata": {},
   "outputs": [
    {
     "data": {
      "text/plain": [
       "True"
      ]
     },
     "execution_count": 53,
     "metadata": {},
     "output_type": "execute_result"
    }
   ],
   "source": [
    "'cat' in spam"
   ]
  },
  {
   "cell_type": "code",
   "execution_count": null,
   "id": "9c53e65d",
   "metadata": {},
   "outputs": [],
   "source": []
  },
  {
   "cell_type": "code",
   "execution_count": 4,
   "id": "ea1f5e9f",
   "metadata": {},
   "outputs": [
    {
     "data": {
      "text/plain": [
       "False"
      ]
     },
     "execution_count": 4,
     "metadata": {},
     "output_type": "execute_result"
    }
   ],
   "source": [
    "\"cat\" in spam.keys()"
   ]
  },
  {
   "cell_type": "code",
   "execution_count": 5,
   "id": "7edddac5",
   "metadata": {},
   "outputs": [
    {
     "data": {
      "text/plain": [
       "True"
      ]
     },
     "execution_count": 5,
     "metadata": {},
     "output_type": "execute_result"
    }
   ],
   "source": [
    "spam1 = {\"cat\": \"animal Tiger\",\"lizard\":\"animal crocodile \"}\n",
    "\"cat\" in spam1"
   ]
  },
  {
   "cell_type": "code",
   "execution_count": 58,
   "id": "6764e51b",
   "metadata": {},
   "outputs": [
    {
     "data": {
      "text/plain": [
       "True"
      ]
     },
     "execution_count": 58,
     "metadata": {},
     "output_type": "execute_result"
    }
   ],
   "source": [
    "\"cat\" in spam1"
   ]
  },
  {
   "cell_type": "code",
   "execution_count": 6,
   "id": "dbde288a",
   "metadata": {},
   "outputs": [
    {
     "data": {
      "text/plain": [
       "False"
      ]
     },
     "execution_count": 6,
     "metadata": {},
     "output_type": "execute_result"
    }
   ],
   "source": [
    "spam2 = {1:\"cat\",2:\"bear\",3:\"cow\"}\n",
    "\"cat\" in spam2  # it gives the False as boolean value because \"cat\" is declared as value in dictionary."
   ]
  },
  {
   "cell_type": "markdown",
   "id": "7cd946aa",
   "metadata": {},
   "source": [
    "### 6. If a dictionary is stored in spam, what is the difference between the expressions 'cat' in spam and 'cat' in spam.values()?"
   ]
  },
  {
   "cell_type": "code",
   "execution_count": 60,
   "id": "f53351c6",
   "metadata": {},
   "outputs": [
    {
     "data": {
      "text/plain": [
       "False"
      ]
     },
     "execution_count": 60,
     "metadata": {},
     "output_type": "execute_result"
    }
   ],
   "source": []
  },
  {
   "cell_type": "markdown",
   "id": "7944d4f4",
   "metadata": {},
   "source": [
    "#### Answer:-\n",
    "        spam is declared as dictionary. when it comes to expressions \n",
    "        first expression : \"cat\" in spam\n",
    "                           if spam(dictionary) keys does contain the \"cat\" as key, Then it gives you \"True\" at output.\n",
    "                           But in above case it gives false. It only check in the keys.\n",
    "       \n",
    "       second expression : \"cat\" in spam.values()\n",
    "                           if spam (dictionary) values does contain the word called \"cat\" as value,Then is return \"True\" or\n",
    "                           else False.\n",
    "       \n",
    "       please follow the examples given below."
   ]
  },
  {
   "cell_type": "code",
   "execution_count": 7,
   "id": "3aeea15c",
   "metadata": {},
   "outputs": [
    {
     "data": {
      "text/plain": [
       "False"
      ]
     },
     "execution_count": 7,
     "metadata": {},
     "output_type": "execute_result"
    }
   ],
   "source": [
    "spam = {1:\"cat\",2:\"bear\",3:\"cow\"}\n",
    "'cat' in spam"
   ]
  },
  {
   "cell_type": "code",
   "execution_count": 8,
   "id": "fc84406d",
   "metadata": {},
   "outputs": [
    {
     "data": {
      "text/plain": [
       "True"
      ]
     },
     "execution_count": 8,
     "metadata": {},
     "output_type": "execute_result"
    }
   ],
   "source": [
    "'cat' in spam.values()  # where as spam does contain the cat as value in dictionary."
   ]
  },
  {
   "cell_type": "markdown",
   "id": "38de6327",
   "metadata": {},
   "source": [
    "### 7. What is a shortcut for the following code?\n",
    "     if 'color' not in spam:\n",
    "     spam['color'] = 'black'\n"
   ]
  },
  {
   "cell_type": "markdown",
   "id": "81503aaf",
   "metadata": {},
   "source": [
    "#### Answer:-\n",
    "          Shortcut for the above code is given as inbulit method.\n",
    "          There is a method in dictionary called setdefault. The main operation of these method is store the key and value pair at time.syntax and using method example is given below.\n",
    "          let's consider that dictionary is spam \n",
    "          spam = {}\n",
    "          spam.setdefault(\"color\",\"black\")"
   ]
  },
  {
   "cell_type": "code",
   "execution_count": 9,
   "id": "33b2a0a1",
   "metadata": {},
   "outputs": [],
   "source": [
    "spam = {}"
   ]
  },
  {
   "cell_type": "code",
   "execution_count": 10,
   "id": "42f12cc2",
   "metadata": {},
   "outputs": [
    {
     "data": {
      "text/plain": [
       "{'color': 'black'}"
      ]
     },
     "execution_count": 10,
     "metadata": {},
     "output_type": "execute_result"
    }
   ],
   "source": [
    "spam.setdefault(\"color\",\"black\")\n",
    "spam"
   ]
  },
  {
   "cell_type": "markdown",
   "id": "2fd3bb5a",
   "metadata": {},
   "source": [
    "### 8. How do you \"pretty print\" dictionary values using which module and function?"
   ]
  },
  {
   "cell_type": "markdown",
   "id": "ad965250",
   "metadata": {},
   "source": [
    "#### Answer:- \n",
    "            There is the module called \"pprint\".It helps us to read data which we inserted in with clarity readablity.\n",
    "            so we can also use for reading the dictionary.\n",
    "            Example follows below.\n",
    "            \n",
    "            \n",
    "            you can see the difference between the normal print statement and pprint"
   ]
  },
  {
   "cell_type": "code",
   "execution_count": 11,
   "id": "c72fcd0a",
   "metadata": {},
   "outputs": [],
   "source": [
    "d = {\"Fsds\":\"full stack data science\", \"FWD\":\"Full stack web developer\",\n",
    "     \"list elements\":[{\"integers\":[1,2,3]},{\"characters\":\"string\"},True],\n",
    "     \"Hyderbad\":\"capital for telangana\",\"Bangalore\":\"capital for karnataka\"\n",
    "     \n",
    "    }"
   ]
  },
  {
   "cell_type": "code",
   "execution_count": 12,
   "id": "b7b27c0e",
   "metadata": {},
   "outputs": [
    {
     "name": "stdout",
     "output_type": "stream",
     "text": [
      "{'Fsds': 'full stack data science', 'FWD': 'Full stack web developer', 'list elements': [{'integers': [1, 2, 3]}, {'characters': 'string'}, True], 'Hyderbad': 'capital for telangana', 'Bangalore': 'capital for karnataka'}\n"
     ]
    }
   ],
   "source": [
    "#using print statement\n",
    "print(d)"
   ]
  },
  {
   "cell_type": "code",
   "execution_count": 13,
   "id": "1167adc6",
   "metadata": {},
   "outputs": [
    {
     "name": "stdout",
     "output_type": "stream",
     "text": [
      "{'Bangalore': 'capital for karnataka',\n",
      " 'FWD': 'Full stack web developer',\n",
      " 'Fsds': 'full stack data science',\n",
      " 'Hyderbad': 'capital for telangana',\n",
      " 'list elements': [{'integers': [1, 2, 3]}, {'characters': 'string'}, True]}\n"
     ]
    }
   ],
   "source": [
    "import pprint as p\n",
    "p.pprint(d) # it provides the most readable data to it."
   ]
  },
  {
   "cell_type": "code",
   "execution_count": null,
   "id": "bc7388b0",
   "metadata": {},
   "outputs": [],
   "source": []
  }
 ],
 "metadata": {
  "kernelspec": {
   "display_name": "Python 3 (ipykernel)",
   "language": "python",
   "name": "python3"
  },
  "language_info": {
   "codemirror_mode": {
    "name": "ipython",
    "version": 3
   },
   "file_extension": ".py",
   "mimetype": "text/x-python",
   "name": "python",
   "nbconvert_exporter": "python",
   "pygments_lexer": "ipython3",
   "version": "3.9.7"
  }
 },
 "nbformat": 4,
 "nbformat_minor": 5
}
