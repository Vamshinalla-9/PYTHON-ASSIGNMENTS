{
 "cells": [
  {
   "cell_type": "markdown",
   "id": "7766603e",
   "metadata": {},
   "source": [
    "### 1. What are escape characters, and how do you use them?"
   ]
  },
  {
   "cell_type": "markdown",
   "id": "f606890c",
   "metadata": {},
   "source": [
    "#### Answer:-\n",
    "     Escape characters is a special character.let consider the example: \"Bishop\\\"s\" \n",
    "     when you run the above example it gives the output as Bishop's . \n",
    "     In above example backslash is used. Backslah are the special byte code known as Escape character or Escape sequence\n",
    "     \n",
    "     Basically escape characters used to give tabspace between the strings,may used to jump the string sequence to the next\n",
    "     line.\n",
    "     There are very few Escape character are there.\n",
    "     \\n  used for new line \n",
    "     \\t used for tab space in horizontally\n",
    "     \\v used for tab space in vertically\n",
    "     \\r used to return the carriage... etc.\n",
    "     \n",
    "     every \\ with precceding the endemic alphabets of escape characters is counted length as 1\n",
    "     let's see the example:\n",
    "     "
   ]
  },
  {
   "cell_type": "code",
   "execution_count": 1,
   "id": "f5c5b747",
   "metadata": {},
   "outputs": [
    {
     "data": {
      "text/plain": [
       "'Bishop\"s'"
      ]
     },
     "execution_count": 1,
     "metadata": {},
     "output_type": "execute_result"
    }
   ],
   "source": [
    "\"Bishop\\\"s\" "
   ]
  },
  {
   "cell_type": "code",
   "execution_count": 2,
   "id": "6bae2bd1",
   "metadata": {},
   "outputs": [],
   "source": [
    "a = \"apple\\nball\\tcat\\r\" #here there are 18 characters in a but returns length as 15 where \\n,\\t,\\r count each to be 1. "
   ]
  },
  {
   "cell_type": "code",
   "execution_count": 3,
   "id": "a17ee51f",
   "metadata": {},
   "outputs": [
    {
     "name": "stdout",
     "output_type": "stream",
     "text": [
      "apple\n",
      "ball\tcat\r\n"
     ]
    }
   ],
   "source": [
    "print(a)"
   ]
  },
  {
   "cell_type": "code",
   "execution_count": 4,
   "id": "f6b2a8da",
   "metadata": {},
   "outputs": [
    {
     "data": {
      "text/plain": [
       "15"
      ]
     },
     "execution_count": 4,
     "metadata": {},
     "output_type": "execute_result"
    }
   ],
   "source": [
    "len(a)"
   ]
  },
  {
   "cell_type": "markdown",
   "id": "42b603c3",
   "metadata": {},
   "source": [
    "### 2. What do the escape characters n and t stand for?"
   ]
  },
  {
   "cell_type": "markdown",
   "id": "cc5d96ac",
   "metadata": {},
   "source": [
    "#### Answer:-\n",
    "        Escape charactes n stand for the new line\n",
    "        Escape character t stand for horizontal tab space\n",
    "     Example is given below:-"
   ]
  },
  {
   "cell_type": "code",
   "execution_count": 5,
   "id": "9aae0470",
   "metadata": {},
   "outputs": [],
   "source": [
    "a = \"ineuron\\n.AI\\tsudh\\tkrish\""
   ]
  },
  {
   "cell_type": "code",
   "execution_count": 6,
   "id": "8a73cad2",
   "metadata": {},
   "outputs": [
    {
     "name": "stdout",
     "output_type": "stream",
     "text": [
      "ineuron\n",
      ".AI\tsudh\tkrish\n"
     ]
    }
   ],
   "source": [
    "print(a)"
   ]
  },
  {
   "cell_type": "markdown",
   "id": "86c0e7ef",
   "metadata": {},
   "source": [
    "### 3. What is the way to include backslash characters in a string?"
   ]
  },
  {
   "cell_type": "markdown",
   "id": "be11661f",
   "metadata": {},
   "source": [
    "#### Answer:-\n",
    "            Yes.We can include backslash by including the double backslash.\n",
    "            example is given below:-\n",
    "            "
   ]
  },
  {
   "cell_type": "code",
   "execution_count": 7,
   "id": "d25fe961",
   "metadata": {},
   "outputs": [
    {
     "name": "stdout",
     "output_type": "stream",
     "text": [
      "backslash\\\n",
      "Escape\tcharacters\n"
     ]
    }
   ],
   "source": [
    "b = \"backslash\\\\\\nEscape\\tcharacters\" # \\\\ of one is ignored so in this way we can include the backslash.\n",
    "print(b)"
   ]
  },
  {
   "cell_type": "markdown",
   "id": "97b6bc62",
   "metadata": {},
   "source": [
    "### 4. The string \"Howl's Moving Castle\" is a correct value. Why isn't the single quote character in the word Howl's not escaped a problem?"
   ]
  },
  {
   "cell_type": "markdown",
   "id": "89470674",
   "metadata": {},
   "source": [
    "#### Answer:- \n",
    "        In this case any string must be enclosed with the qoute marks whether it is single quotes or double quotes. so when we include same quote mark in middle it makes contridiction. so it gives the syntaxError.\n",
    "        So Incase if string is enclosed in double quotes then if we want include quote it must single.\n",
    "        So Incase if string is enclosed in singel quotes then if we want include quote it must be double\n",
    "        "
   ]
  },
  {
   "cell_type": "code",
   "execution_count": 8,
   "id": "a3547a10",
   "metadata": {},
   "outputs": [
    {
     "data": {
      "text/plain": [
       "\"vamshi's\""
      ]
     },
     "execution_count": 8,
     "metadata": {},
     "output_type": "execute_result"
    }
   ],
   "source": [
    "\"vamshi's\""
   ]
  },
  {
   "cell_type": "code",
   "execution_count": 9,
   "id": "9b596f03",
   "metadata": {},
   "outputs": [
    {
     "ename": "SyntaxError",
     "evalue": "invalid syntax (Temp/ipykernel_14100/2956106796.py, line 1)",
     "output_type": "error",
     "traceback": [
      "\u001b[1;36m  File \u001b[1;32m\"C:\\Users\\Vamsh\\AppData\\Local\\Temp/ipykernel_14100/2956106796.py\"\u001b[1;36m, line \u001b[1;32m1\u001b[0m\n\u001b[1;33m    \"vamshi\"s\"\u001b[0m\n\u001b[1;37m            ^\u001b[0m\n\u001b[1;31mSyntaxError\u001b[0m\u001b[1;31m:\u001b[0m invalid syntax\n"
     ]
    }
   ],
   "source": [
    "\"vamshi\"s\"  "
   ]
  },
  {
   "cell_type": "markdown",
   "id": "17294e98",
   "metadata": {},
   "source": [
    "### 5. How do you write a string of newlines if you don't want to use the n character?"
   ]
  },
  {
   "cell_type": "markdown",
   "id": "96c1ec57",
   "metadata": {},
   "source": [
    "#### Answer:-\n",
    "        There is the parameter to print the newlines without using the n character that is end as parameter.it should be in form of end = \"\" while writing the syntax. It removes the newlines.\n",
    "        Example is given below\n",
    "        "
   ]
  },
  {
   "cell_type": "code",
   "execution_count": 10,
   "id": "a102eb2d",
   "metadata": {},
   "outputs": [
    {
     "name": "stdout",
     "output_type": "stream",
     "text": [
      "Hello reader....!  This is how we write the string of newlines without using n character\n"
     ]
    }
   ],
   "source": [
    "print(\"Hello reader....! \",end = \" \" )\n",
    "print(\"This is how we write the string of newlines without using n character\")"
   ]
  },
  {
   "cell_type": "markdown",
   "id": "f70643ff",
   "metadata": {},
   "source": [
    "### 6. What are the values of the given expressions?\n",
    "     'Hello, world!'[1]\n",
    "    'Hello, world!'[0:5]\n",
    "    'Hello, world!'[:5]\n",
    "    'Hello, world!'[3:]\n"
   ]
  },
  {
   "cell_type": "markdown",
   "id": "f6f9b0eb",
   "metadata": {},
   "source": [
    "#### Answer:-\n",
    "        On using the indexing operation we can find the values of given expression \n",
    "        let suppose string is alpha = \"abcde\"\n",
    "        Then the index of 0 is a\n",
    "        the index of 1 is b\n",
    "        the index of 2 is c\n",
    "        the index of 3 is d\n",
    "        the index of 4 is e\n",
    "        \n",
    "        let we will  learn some fundamentals. \n",
    "        alpha[x:y] = where x is starting index element.y is ending index element. so in this case it prints from index element form x upto the precceding to y of the element.\n",
    "        alpha[x:]  In this case it start printing element from we declared index number\n",
    "        alpha[:y] In this case it print the elements upto the precceding the element of Y index number\n",
    "        \n",
    "        \n",
    "    value for  'Hello, world!'[1] ==> e\n",
    "    value for 'Hello, world!'[0:5] ==> hello\n",
    "    value for 'Hello, world!'[:5] ==> hello\n",
    "    value for  'Hello, world!'[3:]==> lo, world! "
   ]
  },
  {
   "cell_type": "markdown",
   "id": "902b3f90",
   "metadata": {},
   "source": [
    "### 7. What are the values of the following expressions?\n",
    "     'Hello'.upper()\n",
    "     'Hello'.upper().isupper()\n",
    "     'Hello'.upper().lower()\n"
   ]
  },
  {
   "cell_type": "markdown",
   "id": "8caac92a",
   "metadata": {},
   "source": [
    "#### Answer:- \n",
    "            upper() is method in string it converts the string to complete Uppercase(CAPITAL)\n",
    "            lower() is method in string it convers the string to complete Lowercase(capital)\n",
    "            isupper() is method in string to check whether string is in Uppercase.\n",
    "            islower() is method in string to check whether string is in lowercase.\n",
    "            \n",
    "    values for the above expressions:\n",
    "        'Hello'.upper() ==>  HELLO\n",
    "        'Hello'.upper().isupper() ==> True. #because we converted the string to uppercase after checking for isupper or not\n",
    "        'Hello'.upper().lower() ==> hello.\n",
    "            "
   ]
  },
  {
   "cell_type": "markdown",
   "id": "4fada964",
   "metadata": {},
   "source": [
    "### 8. What are the values of the following expressions?\n",
    "        'Remember, remember, the fifth of July.'.split()\n",
    "        '-'.join('There can only one.'.split())\n"
   ]
  },
  {
   "cell_type": "markdown",
   "id": "af05429e",
   "metadata": {},
   "source": [
    "#### Answer:-\n",
    "       In case of Expression  --> 'Remember, remember,the fifth of July.'.split()\n",
    "       where split() is the inbuilt method to return the list of words form the string.\n",
    "       It seperate the each word including the punction symbols with space and returns in list\n",
    "       output or value of Expression --> ['Remember',', remember,', 'the', 'fifth', 'of, 'July.'] \n",
    "       \n",
    "       In case of Expression --> '-'.join('There can only one.'.split())\n",
    "       where join() is the inbuilt method of string It is used to concatenate the string of words.if we preceed the any \n",
    "       special symbol then it concatenate with that special symbol\n",
    "       output or value of Expression --> There-can-only-one."
   ]
  },
  {
   "cell_type": "markdown",
   "id": "17b09836",
   "metadata": {},
   "source": [
    "### 9. What are the methods for right-justifying, left-justifying, and centering a string?"
   ]
  },
  {
   "cell_type": "markdown",
   "id": "894885c7",
   "metadata": {},
   "source": [
    "#### Answer:- \n",
    "            There is the method for right- justifying is str.rjust(length, \"  \" )\n",
    "            where length is the length of string should be, Where white space is used to fill the space any special character according to our wish.\n",
    "            \n",
    "            There is the method for left-justifying is str.ljust(length, \" \")\n",
    "            \n",
    "            Method for the centering the string is str.center(length, \" \")\n",
    "            \n",
    "            Example is given below for each of one. \n",
    "            "
   ]
  },
  {
   "cell_type": "code",
   "execution_count": 11,
   "id": "9fa9146e",
   "metadata": {},
   "outputs": [],
   "source": [
    "str = \"justifyig\""
   ]
  },
  {
   "cell_type": "code",
   "execution_count": 12,
   "id": "c2f55254",
   "metadata": {},
   "outputs": [
    {
     "name": "stdout",
     "output_type": "stream",
     "text": [
      "justifyig*******************************\n"
     ]
    },
    {
     "data": {
      "text/plain": [
       "40"
      ]
     },
     "execution_count": 12,
     "metadata": {},
     "output_type": "execute_result"
    }
   ],
   "source": [
    "print(str.ljust(40,\"*\"))  # for left justifying\n",
    "len(str.ljust(40,\"*\"))"
   ]
  },
  {
   "cell_type": "code",
   "execution_count": 13,
   "id": "9e1d9e32",
   "metadata": {},
   "outputs": [
    {
     "name": "stdout",
     "output_type": "stream",
     "text": [
      "---------------justifyig----------------\n"
     ]
    },
    {
     "data": {
      "text/plain": [
       "40"
      ]
     },
     "execution_count": 13,
     "metadata": {},
     "output_type": "execute_result"
    }
   ],
   "source": [
    "print (str.center(40, '-')) # for center justifying\n",
    "len(str.ljust(40,\"*\"))"
   ]
  },
  {
   "cell_type": "code",
   "execution_count": 14,
   "id": "95c4e496",
   "metadata": {},
   "outputs": [
    {
     "name": "stdout",
     "output_type": "stream",
     "text": [
      "*******************************justifyig\n"
     ]
    },
    {
     "data": {
      "text/plain": [
       "40"
      ]
     },
     "execution_count": 14,
     "metadata": {},
     "output_type": "execute_result"
    }
   ],
   "source": [
    "print(str.rjust(40,\"*\")) # for right justifying\n",
    "len(str.rjust(40,\"*\"))"
   ]
  },
  {
   "cell_type": "markdown",
   "id": "d81d7df3",
   "metadata": {},
   "source": [
    "### 10. What is the best way to remove whitespace characters from the start or end?"
   ]
  },
  {
   "cell_type": "markdown",
   "id": "c9fe18b3",
   "metadata": {},
   "source": [
    "#### Answer:- \n",
    "        There is the method to remove whitespace characters form the start or end of string is given by str.strip()\n",
    "        Example is followed below."
   ]
  },
  {
   "cell_type": "code",
   "execution_count": 15,
   "id": "30975cd4",
   "metadata": {},
   "outputs": [
    {
     "data": {
      "text/plain": [
       "97"
      ]
     },
     "execution_count": 15,
     "metadata": {},
     "output_type": "execute_result"
    }
   ],
   "source": [
    "s = \"                                  whitespace                                                     \"\n",
    "len(s)"
   ]
  },
  {
   "cell_type": "code",
   "execution_count": 16,
   "id": "7df1fa57",
   "metadata": {},
   "outputs": [
    {
     "name": "stdout",
     "output_type": "stream",
     "text": [
      "whitespace\n"
     ]
    },
    {
     "data": {
      "text/plain": [
       "10"
      ]
     },
     "execution_count": 16,
     "metadata": {},
     "output_type": "execute_result"
    }
   ],
   "source": [
    "s = s.strip()\n",
    "print(s)\n",
    "len(s)"
   ]
  }
 ],
 "metadata": {
  "kernelspec": {
   "display_name": "Python 3 (ipykernel)",
   "language": "python",
   "name": "python3"
  },
  "language_info": {
   "codemirror_mode": {
    "name": "ipython",
    "version": 3
   },
   "file_extension": ".py",
   "mimetype": "text/x-python",
   "name": "python",
   "nbconvert_exporter": "python",
   "pygments_lexer": "ipython3",
   "version": "3.9.7"
  }
 },
 "nbformat": 4,
 "nbformat_minor": 5
}
